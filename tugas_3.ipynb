        "# Class definition\n",
        "class Person:\n",
        "    # Class Variable\n",
        "    person = 'Person'\n",
        "\n",
        "    # The init method or constructor\n",
        "    def __init__(self, rambut, warna):\n",
        "        # Instance Variables\n",
        "        self.rambut = rambut\n",
        "        self.warna = warna\n",
        "\n",
        "# Objects\n",
        "Budi = Person(\"Ikal\", \"Hitam\")\n",
        "Michael = Person(\"Lurus\", \"Pirang\")\n",
        "\n",
        "print('Budi details:')\n",
        "print('Rambut: ', Budi.rambut)\n",
        "print('Warna Rambut: ', Budi.warna)\n",
        "\n",
        "print('\\nMichael details:')\n",
        "print('Rambut: ', Michael.rambut)\n",
        "print('Warna Rambut: ', Michael.warna)"
      ],
      "metadata": {
        "id": "cFA2Y0p69Hw2",
        "outputId": "0942f5dc-4373-472f-adf5-580c98a230fe",
        "colab": {
          "base_uri": "https://localhost:8080/"
        }
      },
      "execution_count": 1,
      "outputs": [
        {
          "output_type": "stream",
          "name": "stdout",
          "text": [
            "Budi details:\n",
            "Rambut:  Ikal\n",
            "Warna Rambut:  Hitam\n",
            "\n",
            "Michael details:\n",
            "Rambut:  Lurus\n",
            "Warna Rambut:  Pirang\n"
          ]
        }
      ]
    }
  ],
